{
 "cells": [
  {
   "cell_type": "markdown",
   "metadata": {},
   "source": [
    "## Welcome to the first Tech Demystified tutorial"
   ]
  },
  {
   "cell_type": "markdown",
   "metadata": {},
   "source": [
    "Let's learn some Python!"
   ]
  },
  {
   "cell_type": "markdown",
   "metadata": {},
   "source": [
    "Enter 13+7 in the cell below and press SHIFT+ENTER"
   ]
  },
  {
   "cell_type": "markdown",
   "metadata": {},
   "source": [
    "The result of the mathematical operation will appear"
   ]
  },
  {
   "cell_type": "code",
   "execution_count": null,
   "metadata": {
    "collapsed": false
   },
   "outputs": [],
   "source": []
  },
  {
   "cell_type": "markdown",
   "metadata": {},
   "source": [
    "Now enter (52/4)+7 and execute that command (SHIFT+ENTER)."
   ]
  },
  {
   "cell_type": "code",
   "execution_count": null,
   "metadata": {
    "collapsed": true
   },
   "outputs": [],
   "source": []
  },
  {
   "cell_type": "markdown",
   "metadata": {},
   "source": [
    "It gives the same answer, but as a \"real\" number (with a decimal). Why? Because in general addition of integers produces integers, but division of integers (generally) produces real numbers."
   ]
  },
  {
   "cell_type": "markdown",
   "metadata": {},
   "source": [
    "Congratulations. You have written you first Python command. Yes, a mathematical expression is valid Python; it just spits back the result."
   ]
  },
  {
   "cell_type": "markdown",
   "metadata": {},
   "source": [
    "Try entering some more expressions and evaluating them. Here are some to try:\n",
    "\n",
    "Note: \\* means multiply; \\*\\* means raise to a power.\n",
    "\n",
    "2 \\* 3.14159 \\* 5 (circumference of a circle of radius 5)"
   ]
  },
  {
   "cell_type": "code",
   "execution_count": null,
   "metadata": {
    "collapsed": true
   },
   "outputs": [],
   "source": []
  },
  {
   "cell_type": "markdown",
   "metadata": {
    "collapsed": false
   },
   "source": [
    "3.14159\\*5\\*\\*2 (area of a circle of radius 5)"
   ]
  },
  {
   "cell_type": "code",
   "execution_count": null,
   "metadata": {
    "collapsed": true
   },
   "outputs": [],
   "source": []
  },
  {
   "cell_type": "markdown",
   "metadata": {},
   "source": [
    "Do spaces matter?\n",
    "\n",
    "You can use the cell below to experiment with others."
   ]
  },
  {
   "cell_type": "code",
   "execution_count": null,
   "metadata": {
    "collapsed": true
   },
   "outputs": [],
   "source": []
  },
  {
   "cell_type": "markdown",
   "metadata": {},
   "source": [
    "There are a number of different data types in Python. You have just met two of them: integers and floating-point (real) numbers."
   ]
  },
  {
   "cell_type": "markdown",
   "metadata": {},
   "source": [
    "You can find out what type something is with the \"type\" function. Try these:\n",
    "\n",
    "type(3)\n",
    "\n",
    "type(3.3)\n",
    "\n",
    "type(\"Henry\")\n",
    "\n",
    "type(7+5j)   (remember those from High School math?)\n",
    "\n",
    "type(True) and type(False)"
   ]
  },
  {
   "cell_type": "code",
   "execution_count": null,
   "metadata": {
    "collapsed": false
   },
   "outputs": [],
   "source": []
  },
  {
   "cell_type": "markdown",
   "metadata": {},
   "source": [
    "You can convert one object type into another. Try these, and experiment some more:\n",
    "\n",
    "float(3) - converts an integer into a float\n",
    "\n",
    "int(3.6) - converts a float into an integer\n",
    "\n",
    "bool(1) or bool(4) or bool (\"string\") - integer or string into a boolean (True or False)\n",
    "\n",
    "bool(0) or bool(\"\")"
   ]
  },
  {
   "cell_type": "code",
   "execution_count": null,
   "metadata": {
    "collapsed": false
   },
   "outputs": [],
   "source": []
  },
  {
   "cell_type": "markdown",
   "metadata": {},
   "source": [
    "If bool(0) evaluates as False, and bool(\"\") evaluates as False, why do you think bool(\"0\") evaluates as True?"
   ]
  },
  {
   "cell_type": "code",
   "execution_count": null,
   "metadata": {
    "collapsed": false
   },
   "outputs": [],
   "source": []
  },
  {
   "cell_type": "markdown",
   "metadata": {},
   "source": [
    "A value (of any data type) can be assigned to a variable, like this:\n",
    "\n",
    "name = \"Henry\"\n",
    "\n",
    "weight = 190.4\n",
    "\n",
    "height = 6.01\n",
    "\n",
    "Try entering those commands."
   ]
  },
  {
   "cell_type": "code",
   "execution_count": null,
   "metadata": {
    "collapsed": true
   },
   "outputs": [],
   "source": []
  },
  {
   "cell_type": "markdown",
   "metadata": {},
   "source": [
    "Although the assignation is made in memory, there is no output.\n",
    "\n",
    "Now type the name of each variable below. The response will be the value of each variable."
   ]
  },
  {
   "cell_type": "code",
   "execution_count": null,
   "metadata": {
    "collapsed": false
   },
   "outputs": [],
   "source": []
  },
  {
   "cell_type": "markdown",
   "metadata": {},
   "source": [
    "Do you think it matters whether you use single or double quotes to designate a String?"
   ]
  },
  {
   "cell_type": "markdown",
   "metadata": {},
   "source": [
    "There are a number of data structures in Python. \n",
    "\n",
    "Here is an example of a **list**\n",
    "\n",
    "[1,4,2,7,9]\n",
    "\n",
    "A list is an ordered set of objects. A list can consists of more than one data type:\n",
    "\n",
    "[1, True, \"Henry\", 6.01]\n",
    "\n",
    "The elements in a list can be extracted by the index number. Try the following commands below:\n",
    "\n",
    "Henry = [1, True, \"Henry\", 6.01]\n",
    "\n",
    "Henry[0]\n",
    "\n",
    "Henry[1]\n",
    "\n",
    "Henry[2]\n",
    "\n",
    "Henry[3]\n",
    "\n",
    "Henry[4]\n",
    "\n",
    "Why does the last one \"throw\" an error? Python indexing is \"zero-based\". What does that mean?"
   ]
  },
  {
   "cell_type": "code",
   "execution_count": null,
   "metadata": {
    "collapsed": false
   },
   "outputs": [],
   "source": []
  },
  {
   "cell_type": "code",
   "execution_count": null,
   "metadata": {
    "collapsed": false
   },
   "outputs": [],
   "source": []
  },
  {
   "cell_type": "code",
   "execution_count": null,
   "metadata": {
    "collapsed": false
   },
   "outputs": [],
   "source": []
  },
  {
   "cell_type": "code",
   "execution_count": null,
   "metadata": {
    "collapsed": false
   },
   "outputs": [],
   "source": []
  },
  {
   "cell_type": "code",
   "execution_count": null,
   "metadata": {
    "collapsed": false
   },
   "outputs": [],
   "source": []
  },
  {
   "cell_type": "code",
   "execution_count": null,
   "metadata": {
    "collapsed": false
   },
   "outputs": [],
   "source": []
  },
  {
   "cell_type": "code",
   "execution_count": null,
   "metadata": {
    "collapsed": true
   },
   "outputs": [],
   "source": []
  }
 ],
 "metadata": {
  "kernelspec": {
   "display_name": "Python 3",
   "language": "python",
   "name": "python3"
  },
  "language_info": {
   "codemirror_mode": {
    "name": "ipython",
    "version": 3
   },
   "file_extension": ".py",
   "mimetype": "text/x-python",
   "name": "python",
   "nbconvert_exporter": "python",
   "pygments_lexer": "ipython3",
   "version": "3.6.3"
  }
 },
 "nbformat": 4,
 "nbformat_minor": 2
}
